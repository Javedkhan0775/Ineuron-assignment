{
 "cells": [
  {
   "cell_type": "code",
   "execution_count": null,
   "id": "5bbe981a",
   "metadata": {},
   "outputs": [],
   "source": [
    "    \"### 1. Write a Python program to convert kilometers to miles?\\n\""
   ]
  },
  {
   "cell_type": "code",
   "execution_count": 4,
   "id": "05d6c92a",
   "metadata": {},
   "outputs": [
    {
     "name": "stdout",
     "output_type": "stream",
     "text": [
      "enter values in km3.5\n",
      "km in the miles 2.1747985\n"
     ]
    }
   ],
   "source": [
    "km = float(input('enter values in km'))\n",
    "\n",
    "\n",
    "miles =(0.621371)*km\n",
    "\n",
    "print('km in the miles', miles)"
   ]
  },
  {
   "cell_type": "code",
   "execution_count": null,
   "id": "334dfdaf",
   "metadata": {},
   "outputs": [],
   "source": [
    " \"### 2.Write a Python program to convert Celsius to Fahrenheit?\""
   ]
  },
  {
   "cell_type": "code",
   "execution_count": 5,
   "id": "57bb0272",
   "metadata": {},
   "outputs": [
    {
     "name": "stdout",
     "output_type": "stream",
     "text": [
      "enter values in celsius10\n",
      "celsius into the fahrenheit 50.0\n"
     ]
    }
   ],
   "source": [
    "celsius = float(input('enter values in celsius'))\n",
    "\n",
    "fahrht= (celsius*1.8)+32\n",
    "\n",
    "print('celsius into the fahrenheit',fahrht)"
   ]
  },
  {
   "cell_type": "code",
   "execution_count": null,
   "id": "3c68f44a",
   "metadata": {},
   "outputs": [],
   "source": [
    "### 3. Write a Python program to display calendar?\\n\""
   ]
  },
  {
   "cell_type": "code",
   "execution_count": 5,
   "id": "f4718a85",
   "metadata": {},
   "outputs": [],
   "source": [
    "import calendar"
   ]
  },
  {
   "cell_type": "code",
   "execution_count": 6,
   "id": "8d400c60",
   "metadata": {},
   "outputs": [
    {
     "name": "stdout",
     "output_type": "stream",
     "text": [
      "enter the year2022\n",
      "enter the month10\n",
      "    October 2022\n",
      "Mo Tu We Th Fr Sa Su\n",
      "                1  2\n",
      " 3  4  5  6  7  8  9\n",
      "10 11 12 13 14 15 16\n",
      "17 18 19 20 21 22 23\n",
      "24 25 26 27 28 29 30\n",
      "31\n",
      "\n"
     ]
    }
   ],
   "source": [
    "year = int(input('enter the year'))\n",
    "month = int(input('enter the month'))\n",
    "\n",
    "cal = calendar.month(year,month)\n",
    "\n",
    "print(cal)"
   ]
  },
  {
   "cell_type": "code",
   "execution_count": null,
   "id": "337aafe5",
   "metadata": {},
   "outputs": [],
   "source": [
    "\"### 4. Write a Python program to solve quadratic equation?\""
   ]
  },
  {
   "cell_type": "code",
   "execution_count": 7,
   "id": "74866705",
   "metadata": {},
   "outputs": [],
   "source": [
    "import cmath"
   ]
  },
  {
   "cell_type": "code",
   "execution_count": 9,
   "id": "9a057fb2",
   "metadata": {},
   "outputs": [
    {
     "name": "stdout",
     "output_type": "stream",
     "text": [
      "enter number(a!=0)6\n",
      "enter number12\n",
      "enter number8\n",
      "roots are (-1-0.5773502691896257j) and (-1+0.5773502691896257j)\n"
     ]
    }
   ],
   "source": [
    "a = float(input('enter number(a!=0)'))\n",
    "b = float(input('enter number'))\n",
    "c = float(input('enter number'))\n",
    "\n",
    "d = (b**2) - (4*a*c)\n",
    "\n",
    "root1 = (-b-cmath.sqrt(d))/(2*a)\n",
    "root2 = (-b+cmath.sqrt(d))/(2*a)\n",
    "\n",
    "print('roots are',root1,'and', root2)"
   ]
  },
  {
   "cell_type": "code",
   "execution_count": null,
   "id": "49aec4ca",
   "metadata": {},
   "outputs": [],
   "source": []
  },
  {
   "cell_type": "code",
   "execution_count": null,
   "id": "12a713b1",
   "metadata": {},
   "outputs": [],
   "source": [
    "  \"### 5. Write a Python program to swap two variables without temp variable?\""
   ]
  },
  {
   "cell_type": "code",
   "execution_count": 4,
   "id": "8e36dea4",
   "metadata": {},
   "outputs": [
    {
     "name": "stdout",
     "output_type": "stream",
     "text": [
      "5 8\n"
     ]
    }
   ],
   "source": [
    "a = 8\n",
    "b = 5\n",
    "\n",
    "(a,b) = (b,a)\n",
    "\n",
    "print(a,b)"
   ]
  },
  {
   "cell_type": "code",
   "execution_count": null,
   "id": "a6789679",
   "metadata": {},
   "outputs": [],
   "source": []
  }
 ],
 "metadata": {
  "kernelspec": {
   "display_name": "Python 3 (ipykernel)",
   "language": "python",
   "name": "python3"
  },
  "language_info": {
   "codemirror_mode": {
    "name": "ipython",
    "version": 3
   },
   "file_extension": ".py",
   "mimetype": "text/x-python",
   "name": "python",
   "nbconvert_exporter": "python",
   "pygments_lexer": "ipython3",
   "version": "3.9.13"
  }
 },
 "nbformat": 4,
 "nbformat_minor": 5
}
