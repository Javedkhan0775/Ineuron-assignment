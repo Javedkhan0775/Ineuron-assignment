{
 "cells": [
  {
   "cell_type": "code",
   "execution_count": null,
   "id": "1bc14abf",
   "metadata": {},
   "outputs": [],
   "source": [
    "                    "
   ]
  },
  {
   "cell_type": "code",
   "execution_count": null,
   "id": "cd69b990",
   "metadata": {},
   "outputs": [],
   "source": [
    "\"### 1. Write a Python program to print \\\"Hello Python\\\"?\""
   ]
  },
  {
   "cell_type": "code",
   "execution_count": 4,
   "id": "741f9080",
   "metadata": {},
   "outputs": [
    {
     "name": "stdout",
     "output_type": "stream",
     "text": [
      "Hello Python\n"
     ]
    }
   ],
   "source": [
    "print('Hello Python')"
   ]
  },
  {
   "cell_type": "code",
   "execution_count": null,
   "id": "85efe02f",
   "metadata": {},
   "outputs": [],
   "source": [
    "### 2. Write a Python program to do arithmetical operations addition and division.?\\n\"\n",
    "   ]"
   ]
  },
  {
   "cell_type": "code",
   "execution_count": 6,
   "id": "656fe3fd",
   "metadata": {},
   "outputs": [
    {
     "name": "stdout",
     "output_type": "stream",
     "text": [
      "Please enter the first value number1 20\n",
      "please enter the first value number2 5\n",
      "add of two number 25\n",
      "div of two number 4.0\n"
     ]
    }
   ],
   "source": [
    "num1 = int(input('Please enter the first value number1 '))\n",
    "num2 = int(input('please enter the first value number2 '))\n",
    "\n",
    "A = num1+num2\n",
    "D = num1/num2\n",
    "\n",
    "print('add of two number', A)\n",
    "print('div of two number', D)"
   ]
  },
  {
   "cell_type": "code",
   "execution_count": null,
   "id": "fa44e317",
   "metadata": {},
   "outputs": [],
   "source": [
    " \"### 3. Write a Python program to find the area of a triangle?\\n\""
   ]
  },
  {
   "cell_type": "code",
   "execution_count": 2,
   "id": "47bef921",
   "metadata": {},
   "outputs": [
    {
     "name": "stdout",
     "output_type": "stream",
     "text": [
      "enter the lenght first side15\n",
      "enter the length second side22\n",
      "enter the length third side28\n",
      "area of triangle is 163.93119745795795\n",
      "premeter of triangle 65.0\n",
      "semi-premeter of triangle 32.5\n"
     ]
    }
   ],
   "source": [
    "a = float(input('enter the lenght first side' ))\n",
    "b = float(input('enter the length second side'))\n",
    "c = float(input('enter the length third side' ))\n",
    "\n",
    "p = (a+b+c)\n",
    "s = (a+b+c)/2\n",
    "area = (s*(s-a)*(s-b)*(s-c))**0.5\n",
    "\n",
    "print('area of triangle is',area)\n",
    "print('premeter of triangle',p)\n",
    "print('semi-premeter of triangle',s)"
   ]
  },
  {
   "cell_type": "code",
   "execution_count": null,
   "id": "259c14eb",
   "metadata": {},
   "outputs": [],
   "source": [
    "### 4. Write a Python program to swap two variables?\\n\""
   ]
  },
  {
   "cell_type": "code",
   "execution_count": 10,
   "id": "655f8724",
   "metadata": {},
   "outputs": [
    {
     "name": "stdout",
     "output_type": "stream",
     "text": [
      "the value of a is 8\n",
      "the value of b is 5\n"
     ]
    }
   ],
   "source": [
    "a = 5\n",
    "b = 8\n",
    "\n",
    "a,b = b,a\n",
    "\n",
    "print('the value of a is', a)\n",
    "print('the value of b is',b)"
   ]
  },
  {
   "cell_type": "code",
   "execution_count": null,
   "id": "6c2f4687",
   "metadata": {},
   "outputs": [],
   "source": [
    "    \"### 5. Write a Python program to generate a random number?"
   ]
  },
  {
   "cell_type": "code",
   "execution_count": 24,
   "id": "d0fecdbb",
   "metadata": {},
   "outputs": [
    {
     "name": "stdout",
     "output_type": "stream",
     "text": [
      "10\n"
     ]
    }
   ],
   "source": [
    "import random\n",
    "\n",
    "num = random.randint(1,10)\n",
    "\n",
    "print(num)"
   ]
  },
  {
   "cell_type": "raw",
   "id": "e4556483",
   "metadata": {},
   "source": []
  },
  {
   "cell_type": "code",
   "execution_count": null,
   "id": "a89996ac",
   "metadata": {},
   "outputs": [],
   "source": []
  },
  {
   "cell_type": "code",
   "execution_count": null,
   "id": "1f0ae401",
   "metadata": {},
   "outputs": [],
   "source": []
  },
  {
   "cell_type": "code",
   "execution_count": null,
   "id": "8b13b0d6",
   "metadata": {},
   "outputs": [],
   "source": []
  },
  {
   "cell_type": "code",
   "execution_count": null,
   "id": "adca7d59",
   "metadata": {},
   "outputs": [],
   "source": []
  }
 ],
 "metadata": {
  "kernelspec": {
   "display_name": "Python 3 (ipykernel)",
   "language": "python",
   "name": "python3"
  },
  "language_info": {
   "codemirror_mode": {
    "name": "ipython",
    "version": 3
   },
   "file_extension": ".py",
   "mimetype": "text/x-python",
   "name": "python",
   "nbconvert_exporter": "python",
   "pygments_lexer": "ipython3",
   "version": "3.9.13"
  }
 },
 "nbformat": 4,
 "nbformat_minor": 5
}
