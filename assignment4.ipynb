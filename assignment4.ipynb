{
 "cells": [
  {
   "cell_type": "code",
   "execution_count": 1,
   "id": "223c4132-8891-4b15-9838-cf77e0148848",
   "metadata": {},
   "outputs": [],
   "source": [
    "import pandas as pd"
   ]
  },
  {
   "cell_type": "markdown",
   "id": "8c9e679d-db6b-4a35-b531-bb9e48e307ee",
   "metadata": {},
   "source": [
    ". Write a Python Program to Find the Factorial of a Number?\""
   ]
  },
  {
   "cell_type": "code",
   "execution_count": 15,
   "id": "e238b4ae-ee62-450f-9c81-6c40635fb560",
   "metadata": {},
   "outputs": [
    {
     "name": "stdin",
     "output_type": "stream",
     "text": [
      "Enter a number 8\n"
     ]
    },
    {
     "name": "stdout",
     "output_type": "stream",
     "text": [
      "factorial 40320\n"
     ]
    }
   ],
   "source": [
    "i = int(input(\"Enter a number\"))\n",
    "fac = 1\n",
    "while(i>0):\n",
    "    fac= fac*i\n",
    "    i = i-1\n",
    "    \n",
    "print(\"factorial\",fac)   \n",
    "\n",
    "\n"
   ]
  },
  {
   "cell_type": "markdown",
   "id": "262b8bc5-0933-4061-978c-41df9584e526",
   "metadata": {},
   "source": [
    "2. Write a Python Program to Display the multiplication Table?"
   ]
  },
  {
   "cell_type": "code",
   "execution_count": 14,
   "id": "9ead1734-9461-4136-82cf-d7dc7f813d31",
   "metadata": {},
   "outputs": [
    {
     "name": "stdin",
     "output_type": "stream",
     "text": [
      "Enter a number 12\n"
     ]
    },
    {
     "name": "stdout",
     "output_type": "stream",
     "text": [
      "12\n",
      "24\n",
      "36\n",
      "48\n",
      "60\n",
      "72\n",
      "84\n",
      "96\n",
      "108\n",
      "120\n"
     ]
    }
   ],
   "source": [
    "x = int(input(\"Enter a number\"))\n",
    "\n",
    "for y in range (1,11):\n",
    "    print(x*y)"
   ]
  },
  {
   "cell_type": "markdown",
   "id": "066fca51-8de0-40fb-8218-ec7815aab050",
   "metadata": {},
   "source": [
    " 3. Write a Python Program to Print the Fibonacci sequence?\\n\""
   ]
  },
  {
   "cell_type": "code",
   "execution_count": 19,
   "id": "0c6e2858-9236-4c32-873c-c0e3a210c7f6",
   "metadata": {},
   "outputs": [
    {
     "name": "stdin",
     "output_type": "stream",
     "text": [
      "Enter a number 10\n"
     ]
    },
    {
     "name": "stdout",
     "output_type": "stream",
     "text": [
      "0\n",
      "1\n",
      "1\n",
      "2\n",
      "3\n",
      "5\n",
      "8\n"
     ]
    }
   ],
   "source": [
    "s = int(input(\"Enter a number\"))\n",
    "x=0\n",
    "y=1\n",
    "z=0\n",
    "while (z<=s):\n",
    "    print(z)\n",
    "    x=y\n",
    "    y=z\n",
    "    z=x+y\n"
   ]
  },
  {
   "cell_type": "markdown",
   "id": "1ff320fe-8f10-4573-a818-d13a97b08bb1",
   "metadata": {},
   "source": [
    "4. Write a Python Program to Check Armstrong Number?\""
   ]
  },
  {
   "cell_type": "code",
   "execution_count": 33,
   "id": "3300931e-032d-4098-8dd7-662b071de57f",
   "metadata": {},
   "outputs": [
    {
     "name": "stdin",
     "output_type": "stream",
     "text": [
      "Enter a number 27\n"
     ]
    },
    {
     "name": "stdout",
     "output_type": "stream",
     "text": [
      "Number is armstrong\n"
     ]
    }
   ],
   "source": [
    "a = int(input(\"Enter a number\"))\n",
    "orig = i\n",
    "sum = 0\n",
    "while(i>0):\n",
    "    sum= sum+(i%10)*(i%10)*(i%10)\n",
    "    i=i//10\n",
    "    \n",
    "if orig==sum:\n",
    "        print(\"Number is armstrong\")\n",
    "    \n",
    "else:\n",
    "    print(\"Number is not armstrong\")\n",
    "    \n",
    "\n",
    "\n"
   ]
  },
  {
   "cell_type": "markdown",
   "id": "36172d93-aa14-434d-8eae-68fc470c7b58",
   "metadata": {},
   "source": [
    " 5. Write a Python Program to Find Armstrong Number in an Interval?\""
   ]
  },
  {
   "cell_type": "code",
   "execution_count": 2,
   "id": "36216b87-8372-4b73-862c-5ed466565339",
   "metadata": {},
   "outputs": [
    {
     "name": "stdin",
     "output_type": "stream",
     "text": [
      "Enter a number 2\n",
      "Enter a number 3\n"
     ]
    }
   ],
   "source": [
    "upper = int(input(\"Enter a number\"))\n",
    "lower = int(input(\"Enter a number\"))"
   ]
  },
  {
   "cell_type": "markdown",
   "id": "7f89c21b-c00f-4bad-9b35-c0e7a0092e78",
   "metadata": {},
   "source": [
    " Write a Python Program to Find the Sum of Natural Numbers?\""
   ]
  },
  {
   "cell_type": "code",
   "execution_count": null,
   "id": "9fcd9ddc-7818-4623-a21a-9f5d1fde525b",
   "metadata": {},
   "outputs": [],
   "source": []
  }
 ],
 "metadata": {
  "kernelspec": {
   "display_name": "Python 3 (ipykernel)",
   "language": "python",
   "name": "python3"
  },
  "language_info": {
   "codemirror_mode": {
    "name": "ipython",
    "version": 3
   },
   "file_extension": ".py",
   "mimetype": "text/x-python",
   "name": "python",
   "nbconvert_exporter": "python",
   "pygments_lexer": "ipython3",
   "version": "3.10.6"
  }
 },
 "nbformat": 4,
 "nbformat_minor": 5
}
